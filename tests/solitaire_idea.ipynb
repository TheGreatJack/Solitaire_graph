{
 "cells": [
  {
   "cell_type": "markdown",
   "metadata": {},
   "source": [
    "Representar el juego como una suerte de grafo, los estados se pueden representar mas o menos, las reglas de\n",
    "desbloqueo arbitrario de nodos no tanto\n"
   ]
  },
  {
   "cell_type": "markdown",
   "metadata": {},
   "source": [
    "Spade/Club - Negro\n",
    "Diamond/Heart - Rojo\n",
    "\n",
    "Los nodos de input/output tienen 3 estados:\n",
    "\n",
    "- -1 ocupado\n",
    "- 0 bloqueado\n",
    "- 1 libre\n",
    "\n",
    "Los estados de la carta serian\n",
    "- ... poner\n",
    "\n",
    "\n",
    "Hacer una lista con los edges 144 en total, las 2 cartas que tengan que ver con el edge dirigiran a  esa lista para\n",
    "ver el estado del edge, el conjunto de movidas posibles estaria definido en el edge, como \"libre\" "
   ]
  },
  {
   "cell_type": "code",
   "execution_count": null,
   "metadata": {},
   "outputs": [],
   "source": [
    "#Lista de estado de carta:\n",
    "#0-Nodo de input 1\n",
    "#1-Nodo de input 2\n",
    "#2-Nodo de input 3\n",
    "#3-Nodo de output 1\n",
    "#4-Nodo de output 2\n",
    "#5-Nodo de output 3\n",
    "#6-Status\n",
    "#7-Libera\n",
    "#\n",
    "#\n",
    "\n",
    "\n",
    "card_dict=unshuffled_deck = {str(card)+suit : [0,0,0,0,0,0,0,0] for card in range(1, 14) for suit in [\"d\", \"s\", \"h\", \"c\"]}\n",
    "card_dict"
   ]
  },
  {
   "cell_type": "code",
   "execution_count": 18,
   "metadata": {},
   "outputs": [
    {
     "data": {
      "text/plain": [
       "{'1d': ['-', '-', '-', 0, 1, 0, '-', '-'],\n",
       " '1s': ['-', '-', '-', 2, 3, 1, '-', '-'],\n",
       " '1h': ['-', '-', '-', 4, 5, 2, '-', '-'],\n",
       " '1c': ['-', '-', '-', 6, 7, 3, '-', '-'],\n",
       " '2d': [2, 7, 0, 8, 9, 4, '-', '-'],\n",
       " '2s': [4, 1, 1, 10, 11, 5, '-', '-'],\n",
       " '2h': [6, 3, 2, 12, 13, 6, '-', '-'],\n",
       " '2c': [0, 5, 3, 14, 15, 7, '-', '-'],\n",
       " '3d': [10, 15, 4, 16, 17, 8, '-', '-'],\n",
       " '3s': [12, 9, 5, 18, 19, 9, '-', '-'],\n",
       " '3h': [14, 11, 6, 20, 21, 10, '-', '-'],\n",
       " '3c': [8, 13, 7, 22, 23, 11, '-', '-'],\n",
       " '4d': [18, 23, 8, 24, 25, 12, '-', '-'],\n",
       " '4s': [20, 17, 9, 26, 27, 13, '-', '-'],\n",
       " '4h': [22, 19, 10, 28, 29, 14, '-', '-'],\n",
       " '4c': [16, 21, 11, 30, 31, 15, '-', '-'],\n",
       " '5d': [26, 31, 12, 32, 33, 16, '-', '-'],\n",
       " '5s': [28, 25, 13, 34, 35, 17, '-', '-'],\n",
       " '5h': [30, 27, 14, 36, 37, 18, '-', '-'],\n",
       " '5c': [24, 29, 15, 38, 39, 19, '-', '-'],\n",
       " '6d': [34, 39, 16, 40, 41, 20, '-', '-'],\n",
       " '6s': [36, 33, 17, 42, 43, 21, '-', '-'],\n",
       " '6h': [38, 35, 18, 44, 45, 22, '-', '-'],\n",
       " '6c': [32, 37, 19, 46, 47, 23, '-', '-'],\n",
       " '7d': [42, 47, 20, 48, 49, 24, '-', '-'],\n",
       " '7s': [44, 41, 21, 50, 51, 25, '-', '-'],\n",
       " '7h': [46, 43, 22, 52, 53, 26, '-', '-'],\n",
       " '7c': [40, 45, 23, 54, 55, 27, '-', '-'],\n",
       " '8d': [50, 55, 24, 56, 57, 28, '-', '-'],\n",
       " '8s': [52, 49, 25, 58, 59, 29, '-', '-'],\n",
       " '8h': [54, 51, 26, 60, 61, 30, '-', '-'],\n",
       " '8c': [48, 53, 27, 62, 63, 31, '-', '-'],\n",
       " '9d': [58, 63, 28, 64, 65, 32, '-', '-'],\n",
       " '9s': [60, 57, 29, 66, 67, 33, '-', '-'],\n",
       " '9h': [62, 59, 30, 68, 69, 34, '-', '-'],\n",
       " '9c': [56, 61, 31, 70, 71, 35, '-', '-'],\n",
       " '10d': [66, 71, 32, 72, 73, 36, '-', '-'],\n",
       " '10s': [68, 65, 33, 74, 75, 37, '-', '-'],\n",
       " '10h': [70, 67, 34, 76, 77, 38, '-', '-'],\n",
       " '10c': [64, 69, 35, 78, 79, 39, '-', '-'],\n",
       " '11d': [74, 79, 36, 80, 81, 40, '-', '-'],\n",
       " '11s': [76, 73, 37, 82, 83, 41, '-', '-'],\n",
       " '11h': [78, 75, 38, 84, 85, 42, '-', '-'],\n",
       " '11c': [72, 77, 39, 86, 87, 43, '-', '-'],\n",
       " '12d': [82, 87, 40, 88, 89, 44, '-', '-'],\n",
       " '12s': [84, 81, 41, 90, 91, 45, '-', '-'],\n",
       " '12h': [86, 83, 42, 92, 93, 46, '-', '-'],\n",
       " '12c': [80, 85, 43, 94, 95, 47, '-', '-'],\n",
       " '13d': [90, 95, 44, '-', '-', '-', '-', '-'],\n",
       " '13s': [92, 89, 45, '-', '-', '-', '-', '-'],\n",
       " '13h': [94, 91, 46, '-', '-', '-', '-', '-'],\n",
       " '13c': [88, 93, 47, '-', '-', '-', '-', '-']}"
      ]
     },
     "execution_count": 18,
     "metadata": {},
     "output_type": "execute_result"
    }
   ],
   "source": [
    "#Lista de jugadas de la fundacion\n",
    "#La union se hace en la misma pinta\n",
    "#Formato: (pinta,index_place)\n",
    "\n",
    "def tableau_union_rules(pinta):\n",
    "    if pinta == \"d\":\n",
    "        return (\"c\",\"s\")\n",
    "    elif pinta == \"s\":\n",
    "        return (\"d\",\"h\")\n",
    "    elif pinta == \"h\":\n",
    "        return (\"s\",\"c\")\n",
    "    elif pinta == \"c\":\n",
    "        return (\"h\",\"d\")\n",
    "\n",
    "def actualizador(current_card,tableau_index,foundation_index,card_dict):\n",
    "    number = current_card[:-1]\n",
    "    pinta = current_card[-1]\n",
    "    upper_rank = int(number)+1\n",
    "\n",
    "    if upper_rank <= 13:\n",
    "        tableau_pairing = tableau_union_rules(pinta)\n",
    "        count = 0\n",
    "        for pinta_upper in tableau_pairing:\n",
    "            upper_card= str(upper_rank)+pinta_upper\n",
    "            \n",
    "            #input of upper card\n",
    "            card_dict[upper_card][count] = tableau_index\n",
    "            #output of current card\n",
    "            card_dict[current_card][count+3] = tableau_index\n",
    "\n",
    "            count += 1\n",
    "            tableau_index += 1\n",
    "            #Se acutaliza el valor en el pairing del tableau\n",
    "        \n",
    "        upper_card = str(upper_rank)+pinta\n",
    "\n",
    "        card_dict[upper_card][2] = foundation_index\n",
    "        card_dict[current_card][5] = foundation_index\n",
    "        foundation_index += 1\n",
    "\n",
    "    return tableau_index,foundation_index,card_dict\n",
    "    #Se actualiza el valor\n",
    "\n",
    "def create_game():\n",
    "    card_dict = {}\n",
    "\n",
    "    for card in range(1,14):\n",
    "        for suit in [\"d\", \"s\", \"h\", \"c\"]:\n",
    "            init_list = [\"-\"]*8\n",
    "            card_dict[str(card)+suit] = init_list\n",
    "\n",
    "    tableau_index = 0\n",
    "    foundation_index = 0\n",
    "    for card in card_dict.keys():\n",
    "        tableau_index,foundation_index,card_dict = actualizador(card,tableau_index,foundation_index,card_dict)\n",
    "    \n",
    "    return card_dict\n",
    "\n",
    "create_game()\n"
   ]
  },
  {
   "cell_type": "code",
   "execution_count": 10,
   "metadata": {},
   "outputs": [
    {
     "data": {
      "text/plain": [
       "'1'"
      ]
     },
     "execution_count": 10,
     "metadata": {},
     "output_type": "execute_result"
    }
   ],
   "source": [
    "#Reglas de union en el tableau\n",
    "\n",
    "# c - d - s\n",
    "# d - s - h\n",
    "# s - h - c\n",
    "# h - c - d\n",
    "\n",
    "# Me toca hacer que la lista de jugadas posibles tambien guarde informacion acerca de las 2 cartas relacionadas \n",
    "# De ese modo una jugada alteraria el estado de la lista de jugadas y podria remitirse facilmente a las cartas involucradas\n",
    "# en la jugada para hacer las modificaciones necesarias de vuelta en la lista de jugadas, ese proceso tendria que ser\n",
    "# lo mas eficiente posible para que la busqueda no sea muy lenta\n",
    "\n",
    "# En teoria para describir el juego solo se necesitan los estados de las cartas y la lista de jugadas sin contars las\n",
    "# cartas involucradas \n",
    "\n",
    "# Tambien quedaria pendiente la implementacion con Ncurses supongo para ver las jugadas de forma grafica, por ahora todo es \n",
    "# muy abstracto\n",
    "\n",
    "# La ventaja es que reduzco la descripcion del juego a 1 diccionario y 2 listas, otras funciones harian cosas sobre esta\n",
    "# estructura de informacion, parece que no es posible volver esto un grafo en el tiempo, no hay 1 camino que seguir, si no\n",
    "# 4 distintos que se rocorren de forma no constante, lo que hace dificil una expasion en el tiempo sin quebrarse la cabeza\n",
    "\n",
    "# Tambien se puede probar un algoritmo que no funcione a fuerza bruta tambien puede ser interesante, o un sistema de scoring\n",
    "# simple que guie un poco la busqueda del algoritmo"
   ]
  },
  {
   "cell_type": "code",
   "execution_count": 2,
   "metadata": {},
   "outputs": [
    {
     "data": {
      "text/plain": [
       "144"
      ]
     },
     "execution_count": 2,
     "metadata": {},
     "output_type": "execute_result"
    }
   ],
   "source": [
    "96+48"
   ]
  },
  {
   "cell_type": "code",
   "execution_count": 17,
   "metadata": {},
   "outputs": [
    {
     "data": {
      "text/plain": [
       "['-', '-', '-', '-', '-', '-', '-', '-']"
      ]
     },
     "execution_count": 17,
     "metadata": {},
     "output_type": "execute_result"
    }
   ],
   "source": [
    "[\"-\"]*8"
   ]
  },
  {
   "cell_type": "code",
   "execution_count": null,
   "metadata": {},
   "outputs": [],
   "source": []
  }
 ],
 "metadata": {
  "interpreter": {
   "hash": "b150194c773ba0ff06cd02efa2bbc4f2ee3cd5d3f8cdb0cda69c3e95f9a05c39"
  },
  "kernelspec": {
   "display_name": "Python 3.9.6 64-bit ('DL3': conda)",
   "language": "python",
   "name": "python3"
  },
  "language_info": {
   "codemirror_mode": {
    "name": "ipython",
    "version": 3
   },
   "file_extension": ".py",
   "mimetype": "text/x-python",
   "name": "python",
   "nbconvert_exporter": "python",
   "pygments_lexer": "ipython3",
   "version": "3.9.6"
  },
  "orig_nbformat": 4
 },
 "nbformat": 4,
 "nbformat_minor": 2
}
